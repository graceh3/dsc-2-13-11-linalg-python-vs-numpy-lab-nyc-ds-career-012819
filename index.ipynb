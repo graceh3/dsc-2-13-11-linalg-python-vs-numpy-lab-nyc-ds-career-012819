{
 "cells": [
  {
   "cell_type": "markdown",
   "metadata": {},
   "source": [
    "# Pure Python vs. Numpy - Lab\n",
    "\n",
    "## Introduction \n",
    "\n",
    "Numpy, Scipy and Pandas libraries provide a significant increase in computational efficiency with complex mathematical operations as compared to Python's built in arithmatic functions.  In this lab we shall calculate and compare the processing speed required for calculating a dot product both using basic arithmatic operations in Python and Numpy's `.dot()` method. \n",
    "\n",
    "## Objectives\n",
    "You will be able to:\n",
    "* Compare the performance of high dimensional matrix operations in Numpy vs. pure Python"
   ]
  },
  {
   "cell_type": "markdown",
   "metadata": {},
   "source": [
    "## Problem\n",
    "> **Write a routine to calculate the dot product between two 200 x 200 dimensional matrices using:**\n",
    "\n",
    "> **a) Pure Python**\n",
    "\n",
    "> **b) Numpy's `.dot()`**\n",
    "\n",
    "\n",
    "### Create two 200 x 200 matrices in Python and fill them with random values using `np.random.rand()` "
   ]
  },
  {
   "cell_type": "code",
   "execution_count": 2,
   "metadata": {},
   "outputs": [],
   "source": [
    "# Compare 200x200 matrix-matrix multiplication speed\n",
    "import numpy as np\n",
    "\n",
    "# Set up the variables\n",
    "A = np.random.rand(200,200)\n",
    "B = np.random.rand(200,200)"
   ]
  },
  {
   "cell_type": "markdown",
   "metadata": {},
   "source": [
    "### Pure Python\n",
    "\n",
    "* Initialize an zeros filled numpy matrix with necessary rows and columns for storing result. \n",
    "* In Python Calculate the dot product using the formula \n",
    "![](formula.png)\n",
    "* Use Python's `timeit` library to calculate the processing time. \n",
    "* [Visit this link](https://www.pythoncentral.io/time-a-python-function/) for an indepth explanation on how to time a function or routine in python. \n",
    "\n",
    "**Hint**: Use nested for loop for accessing, calculating and storing each scalar value in the result matrix."
   ]
  },
  {
   "cell_type": "code",
   "execution_count": 11,
   "metadata": {},
   "outputs": [
    {
     "data": {
      "text/plain": [
       "array([[49.89588749, 49.89588749, 49.89588749, ..., 49.89588749,\n",
       "        49.89588749, 49.89588749],\n",
       "       [45.85026906, 45.85026906, 45.85026906, ..., 45.85026906,\n",
       "        45.85026906, 45.85026906],\n",
       "       [50.40683812, 50.40683812, 50.40683812, ..., 50.40683812,\n",
       "        50.40683812, 50.40683812],\n",
       "       ...,\n",
       "       [52.91886639, 52.91886639, 52.91886639, ..., 52.91886639,\n",
       "        52.91886639, 52.91886639],\n",
       "       [45.10852843, 45.10852843, 45.10852843, ..., 45.10852843,\n",
       "        45.10852843, 45.10852843],\n",
       "       [50.77876987, 50.77876987, 50.77876987, ..., 50.77876987,\n",
       "        50.77876987, 50.77876987]])"
      ]
     },
     "execution_count": 11,
     "metadata": {},
     "output_type": "execute_result"
    }
   ],
   "source": [
    "import timeit\n",
    "\n",
    "# Start the timer\n",
    "# start = None\n",
    "\n",
    "# Matrix multiplication in pure Python\n",
    "take_sum = np.zeros((200,200))\n",
    "\n",
    "for i in range(200):\n",
    "    aS = []\n",
    "    bS = []\n",
    "    j = 0\n",
    "    i = i\n",
    "    for a in A[i,:]:\n",
    "        aS.append(a)\n",
    "    while j <200:\n",
    "        for b in B[:,j]:\n",
    "            bS.append(b)\n",
    "            j+=1\n",
    "        prod = sum(np.array(aS)*np.array(bS))\n",
    "        x = i\n",
    "        y = j\n",
    "        take_sum[x:y] = prod\n",
    "\n",
    "take_sum\n",
    "\n",
    "# time_spent = \n",
    "\n",
    "# print('Pure Python Time:', time_spent, 'sec.')"
   ]
  },
  {
   "cell_type": "markdown",
   "metadata": {},
   "source": [
    "## Numpy \n",
    "Set the timer and calculate the time taken by `.dot()` function for multiplying A and B \n"
   ]
  },
  {
   "cell_type": "code",
   "execution_count": 9,
   "metadata": {},
   "outputs": [
    {
     "data": {
      "text/plain": [
       "array([[49.89588749, 51.79980203, 54.5491338 , ..., 48.37487   ,\n",
       "        55.3037545 , 47.81922672],\n",
       "       [45.85026906, 46.57922724, 49.82836437, ..., 44.23564992,\n",
       "        48.71316428, 41.67454555],\n",
       "       [50.40683812, 49.34496856, 54.67845769, ..., 50.50613663,\n",
       "        53.45321779, 47.41755394],\n",
       "       ...,\n",
       "       [52.91886639, 52.66204424, 57.57205351, ..., 51.76495332,\n",
       "        55.21039696, 48.67195727],\n",
       "       [45.10852843, 45.55130004, 48.0409435 , ..., 45.92002693,\n",
       "        48.07382165, 41.30856741],\n",
       "       [50.77876987, 48.62392275, 52.29262237, ..., 47.46690981,\n",
       "        52.33967422, 46.17727207]])"
      ]
     },
     "execution_count": 9,
     "metadata": {},
     "output_type": "execute_result"
    }
   ],
   "source": [
    "# start the timer\n",
    "start = None\n",
    "\n",
    "# Matrix multiplication in numpy\n",
    "solution = A.dot(B)\n",
    "solution\n",
    "\n",
    "\n",
    "# time_spent = None\n",
    "# print('Numpy Time:', time_spent, 'sec.')"
   ]
  },
  {
   "cell_type": "markdown",
   "metadata": {},
   "source": [
    "### Your comments "
   ]
  },
  {
   "cell_type": "markdown",
   "metadata": {},
   "source": [
    "```\n",
    "```"
   ]
  },
  {
   "cell_type": "markdown",
   "metadata": {},
   "source": [
    "## Summary\n",
    "\n",
    "In this lab, we performed a quick comparison between calculating a dot product in numpy vs python built in function. We saw that Numpy is computationally much more efficient that Python code due to highly sophisticated implementation of Numpy source code. You are encouraged to always perform such tests to fully appreciate the use of an additional library in Python. "
   ]
  }
 ],
 "metadata": {
  "kernelspec": {
   "display_name": "Python 3",
   "language": "python",
   "name": "python3"
  },
  "language_info": {
   "codemirror_mode": {
    "name": "ipython",
    "version": 3
   },
   "file_extension": ".py",
   "mimetype": "text/x-python",
   "name": "python",
   "nbconvert_exporter": "python",
   "pygments_lexer": "ipython3",
   "version": "3.6.6"
  }
 },
 "nbformat": 4,
 "nbformat_minor": 2
}
